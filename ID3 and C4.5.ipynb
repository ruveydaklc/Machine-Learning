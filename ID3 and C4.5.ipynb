{
 "cells": [
  {
   "cell_type": "code",
   "execution_count": 1,
   "id": "43889ffa",
   "metadata": {},
   "outputs": [],
   "source": [
    "import pandas as pd\n",
    "from chefboost import Chefboost as chef\n",
    "from chefboost.training import Training\n"
   ]
  },
  {
   "cell_type": "markdown",
   "id": "5cf52297",
   "metadata": {},
   "source": [
    "-----------------------------\n",
    "ID3"
   ]
  },
  {
   "cell_type": "code",
   "execution_count": 2,
   "id": "8d35cac4",
   "metadata": {},
   "outputs": [
    {
     "data": {
      "text/html": [
       "<div>\n",
       "<style scoped>\n",
       "    .dataframe tbody tr th:only-of-type {\n",
       "        vertical-align: middle;\n",
       "    }\n",
       "\n",
       "    .dataframe tbody tr th {\n",
       "        vertical-align: top;\n",
       "    }\n",
       "\n",
       "    .dataframe thead th {\n",
       "        text-align: right;\n",
       "    }\n",
       "</style>\n",
       "<table border=\"1\" class=\"dataframe\">\n",
       "  <thead>\n",
       "    <tr style=\"text-align: right;\">\n",
       "      <th></th>\n",
       "      <th>Outlook</th>\n",
       "      <th>Temperature</th>\n",
       "      <th>Humidity</th>\n",
       "      <th>Wind</th>\n",
       "      <th>Decision</th>\n",
       "    </tr>\n",
       "  </thead>\n",
       "  <tbody>\n",
       "    <tr>\n",
       "      <th>0</th>\n",
       "      <td>Sunny</td>\n",
       "      <td>Hot</td>\n",
       "      <td>High</td>\n",
       "      <td>Weak</td>\n",
       "      <td>No</td>\n",
       "    </tr>\n",
       "    <tr>\n",
       "      <th>1</th>\n",
       "      <td>Sunny</td>\n",
       "      <td>Hot</td>\n",
       "      <td>High</td>\n",
       "      <td>Strong</td>\n",
       "      <td>No</td>\n",
       "    </tr>\n",
       "    <tr>\n",
       "      <th>2</th>\n",
       "      <td>Overcast</td>\n",
       "      <td>Hot</td>\n",
       "      <td>High</td>\n",
       "      <td>Weak</td>\n",
       "      <td>Yes</td>\n",
       "    </tr>\n",
       "    <tr>\n",
       "      <th>3</th>\n",
       "      <td>Rain</td>\n",
       "      <td>Mild</td>\n",
       "      <td>High</td>\n",
       "      <td>Weak</td>\n",
       "      <td>Yes</td>\n",
       "    </tr>\n",
       "    <tr>\n",
       "      <th>4</th>\n",
       "      <td>Rain</td>\n",
       "      <td>Cool</td>\n",
       "      <td>Normal</td>\n",
       "      <td>Weak</td>\n",
       "      <td>Yes</td>\n",
       "    </tr>\n",
       "    <tr>\n",
       "      <th>5</th>\n",
       "      <td>Rain</td>\n",
       "      <td>Cool</td>\n",
       "      <td>Normal</td>\n",
       "      <td>Strong</td>\n",
       "      <td>No</td>\n",
       "    </tr>\n",
       "    <tr>\n",
       "      <th>6</th>\n",
       "      <td>Overcast</td>\n",
       "      <td>Cool</td>\n",
       "      <td>Normal</td>\n",
       "      <td>Strong</td>\n",
       "      <td>Yes</td>\n",
       "    </tr>\n",
       "    <tr>\n",
       "      <th>7</th>\n",
       "      <td>Sunny</td>\n",
       "      <td>Mild</td>\n",
       "      <td>High</td>\n",
       "      <td>Weak</td>\n",
       "      <td>No</td>\n",
       "    </tr>\n",
       "    <tr>\n",
       "      <th>8</th>\n",
       "      <td>Sunny</td>\n",
       "      <td>Cool</td>\n",
       "      <td>Normal</td>\n",
       "      <td>Weak</td>\n",
       "      <td>Yes</td>\n",
       "    </tr>\n",
       "    <tr>\n",
       "      <th>9</th>\n",
       "      <td>Rain</td>\n",
       "      <td>Mild</td>\n",
       "      <td>Normal</td>\n",
       "      <td>Weak</td>\n",
       "      <td>Yes</td>\n",
       "    </tr>\n",
       "    <tr>\n",
       "      <th>10</th>\n",
       "      <td>Sunny</td>\n",
       "      <td>Mild</td>\n",
       "      <td>Normal</td>\n",
       "      <td>Strong</td>\n",
       "      <td>Yes</td>\n",
       "    </tr>\n",
       "    <tr>\n",
       "      <th>11</th>\n",
       "      <td>Overcast</td>\n",
       "      <td>Mild</td>\n",
       "      <td>High</td>\n",
       "      <td>Strong</td>\n",
       "      <td>Yes</td>\n",
       "    </tr>\n",
       "    <tr>\n",
       "      <th>12</th>\n",
       "      <td>Overcast</td>\n",
       "      <td>Hot</td>\n",
       "      <td>Normal</td>\n",
       "      <td>Weak</td>\n",
       "      <td>Yes</td>\n",
       "    </tr>\n",
       "    <tr>\n",
       "      <th>13</th>\n",
       "      <td>Rain</td>\n",
       "      <td>Mild</td>\n",
       "      <td>High</td>\n",
       "      <td>Strong</td>\n",
       "      <td>No</td>\n",
       "    </tr>\n",
       "  </tbody>\n",
       "</table>\n",
       "</div>"
      ],
      "text/plain": [
       "     Outlook Temperature Humidity    Wind Decision\n",
       "0      Sunny         Hot     High    Weak       No\n",
       "1      Sunny         Hot     High  Strong       No\n",
       "2   Overcast         Hot     High    Weak      Yes\n",
       "3       Rain        Mild     High    Weak      Yes\n",
       "4       Rain        Cool   Normal    Weak      Yes\n",
       "5       Rain        Cool   Normal  Strong       No\n",
       "6   Overcast        Cool   Normal  Strong      Yes\n",
       "7      Sunny        Mild     High    Weak       No\n",
       "8      Sunny        Cool   Normal    Weak      Yes\n",
       "9       Rain        Mild   Normal    Weak      Yes\n",
       "10     Sunny        Mild   Normal  Strong      Yes\n",
       "11  Overcast        Mild     High  Strong      Yes\n",
       "12  Overcast         Hot   Normal    Weak      Yes\n",
       "13      Rain        Mild     High  Strong       No"
      ]
     },
     "execution_count": 2,
     "metadata": {},
     "output_type": "execute_result"
    }
   ],
   "source": [
    "df = pd.read_csv(\"Golf.txt\")\n",
    "df"
   ]
  },
  {
   "cell_type": "code",
   "execution_count": 3,
   "id": "dd0247bd",
   "metadata": {},
   "outputs": [],
   "source": [
    "config = {'algorithm': 'ID3'}"
   ]
  },
  {
   "cell_type": "code",
   "execution_count": 4,
   "id": "fa82f608",
   "metadata": {},
   "outputs": [
    {
     "name": "stdout",
     "output_type": "stream",
     "text": [
      "[INFO]:  2 CPU cores will be allocated in parallel running\n",
      "ID3  tree is going to be built...\n",
      "-------------------------\n",
      "finished in  0.33859801292419434  seconds\n",
      "-------------------------\n",
      "Evaluate  train set\n",
      "-------------------------\n",
      "Accuracy:  100.0 % on  14  instances\n",
      "Labels:  ['No' 'Yes']\n",
      "Confusion matrix:  [[5, 0], [0, 9]]\n",
      "Precision:  100.0 %, Recall:  100.0 %, F1:  100.0 %\n"
     ]
    }
   ],
   "source": [
    "model = chef.fit(df, config)"
   ]
  },
  {
   "cell_type": "code",
   "execution_count": 5,
   "id": "1a707fac",
   "metadata": {},
   "outputs": [
    {
     "data": {
      "text/plain": [
       "'No'"
      ]
     },
     "execution_count": 5,
     "metadata": {},
     "output_type": "execute_result"
    }
   ],
   "source": [
    "chef.predict(model, ['Sunny', 'Hot', 'High', 'Weak'])"
   ]
  },
  {
   "cell_type": "code",
   "execution_count": 6,
   "id": "1c0b67a2",
   "metadata": {},
   "outputs": [
    {
     "data": {
      "text/plain": [
       "{'gains': {'Temperature': 0.5709505944546686,\n",
       "  'Humidity': 0.9709505944546686,\n",
       "  'Wind': 0.01997309402197489},\n",
       " 'entropy': 0.9709505944546686}"
      ]
     },
     "execution_count": 6,
     "metadata": {},
     "output_type": "execute_result"
    }
   ],
   "source": [
    "Training.findGains(df[df['Outlook'] == 'Sunny'].drop(columns = [\"Outlook\"]), config)"
   ]
  },
  {
   "cell_type": "code",
   "execution_count": 7,
   "id": "7a42fbc1",
   "metadata": {},
   "outputs": [
    {
     "data": {
      "text/html": [
       "<div>\n",
       "<style scoped>\n",
       "    .dataframe tbody tr th:only-of-type {\n",
       "        vertical-align: middle;\n",
       "    }\n",
       "\n",
       "    .dataframe tbody tr th {\n",
       "        vertical-align: top;\n",
       "    }\n",
       "\n",
       "    .dataframe thead th {\n",
       "        text-align: right;\n",
       "    }\n",
       "</style>\n",
       "<table border=\"1\" class=\"dataframe\">\n",
       "  <thead>\n",
       "    <tr style=\"text-align: right;\">\n",
       "      <th></th>\n",
       "      <th>Outlook</th>\n",
       "      <th>Temperature</th>\n",
       "      <th>Humidity</th>\n",
       "      <th>Wind</th>\n",
       "      <th>Decision</th>\n",
       "    </tr>\n",
       "  </thead>\n",
       "  <tbody>\n",
       "    <tr>\n",
       "      <th>0</th>\n",
       "      <td>Sunny</td>\n",
       "      <td>Hot</td>\n",
       "      <td>High</td>\n",
       "      <td>Weak</td>\n",
       "      <td>No</td>\n",
       "    </tr>\n",
       "    <tr>\n",
       "      <th>1</th>\n",
       "      <td>Sunny</td>\n",
       "      <td>Hot</td>\n",
       "      <td>High</td>\n",
       "      <td>Strong</td>\n",
       "      <td>No</td>\n",
       "    </tr>\n",
       "    <tr>\n",
       "      <th>7</th>\n",
       "      <td>Sunny</td>\n",
       "      <td>Mild</td>\n",
       "      <td>High</td>\n",
       "      <td>Weak</td>\n",
       "      <td>No</td>\n",
       "    </tr>\n",
       "    <tr>\n",
       "      <th>8</th>\n",
       "      <td>Sunny</td>\n",
       "      <td>Cool</td>\n",
       "      <td>Normal</td>\n",
       "      <td>Weak</td>\n",
       "      <td>Yes</td>\n",
       "    </tr>\n",
       "    <tr>\n",
       "      <th>10</th>\n",
       "      <td>Sunny</td>\n",
       "      <td>Mild</td>\n",
       "      <td>Normal</td>\n",
       "      <td>Strong</td>\n",
       "      <td>Yes</td>\n",
       "    </tr>\n",
       "  </tbody>\n",
       "</table>\n",
       "</div>"
      ],
      "text/plain": [
       "   Outlook Temperature Humidity    Wind Decision\n",
       "0    Sunny         Hot     High    Weak       No\n",
       "1    Sunny         Hot     High  Strong       No\n",
       "7    Sunny        Mild     High    Weak       No\n",
       "8    Sunny        Cool   Normal    Weak      Yes\n",
       "10   Sunny        Mild   Normal  Strong      Yes"
      ]
     },
     "execution_count": 7,
     "metadata": {},
     "output_type": "execute_result"
    }
   ],
   "source": [
    "df[df['Outlook'] == 'Sunny']"
   ]
  },
  {
   "cell_type": "markdown",
   "id": "3fe10c83",
   "metadata": {},
   "source": [
    "-----------------------------\n",
    "C4.5"
   ]
  },
  {
   "cell_type": "code",
   "execution_count": 8,
   "id": "c217a28a",
   "metadata": {},
   "outputs": [
    {
     "data": {
      "text/html": [
       "<div>\n",
       "<style scoped>\n",
       "    .dataframe tbody tr th:only-of-type {\n",
       "        vertical-align: middle;\n",
       "    }\n",
       "\n",
       "    .dataframe tbody tr th {\n",
       "        vertical-align: top;\n",
       "    }\n",
       "\n",
       "    .dataframe thead th {\n",
       "        text-align: right;\n",
       "    }\n",
       "</style>\n",
       "<table border=\"1\" class=\"dataframe\">\n",
       "  <thead>\n",
       "    <tr style=\"text-align: right;\">\n",
       "      <th></th>\n",
       "      <th>Outlook</th>\n",
       "      <th>Temperature</th>\n",
       "      <th>Humidity</th>\n",
       "      <th>Wind</th>\n",
       "      <th>Decision</th>\n",
       "    </tr>\n",
       "  </thead>\n",
       "  <tbody>\n",
       "    <tr>\n",
       "      <th>0</th>\n",
       "      <td>Sunny</td>\n",
       "      <td>85</td>\n",
       "      <td>85</td>\n",
       "      <td>Weak</td>\n",
       "      <td>No</td>\n",
       "    </tr>\n",
       "    <tr>\n",
       "      <th>1</th>\n",
       "      <td>Sunny</td>\n",
       "      <td>80</td>\n",
       "      <td>90</td>\n",
       "      <td>Strong</td>\n",
       "      <td>No</td>\n",
       "    </tr>\n",
       "    <tr>\n",
       "      <th>2</th>\n",
       "      <td>Overcast</td>\n",
       "      <td>83</td>\n",
       "      <td>78</td>\n",
       "      <td>Weak</td>\n",
       "      <td>Yes</td>\n",
       "    </tr>\n",
       "    <tr>\n",
       "      <th>3</th>\n",
       "      <td>Rain</td>\n",
       "      <td>70</td>\n",
       "      <td>96</td>\n",
       "      <td>Weak</td>\n",
       "      <td>Yes</td>\n",
       "    </tr>\n",
       "    <tr>\n",
       "      <th>4</th>\n",
       "      <td>Rain</td>\n",
       "      <td>68</td>\n",
       "      <td>80</td>\n",
       "      <td>Weak</td>\n",
       "      <td>Yes</td>\n",
       "    </tr>\n",
       "  </tbody>\n",
       "</table>\n",
       "</div>"
      ],
      "text/plain": [
       "    Outlook  Temperature  Humidity    Wind Decision\n",
       "0     Sunny           85        85    Weak       No\n",
       "1     Sunny           80        90  Strong       No\n",
       "2  Overcast           83        78    Weak      Yes\n",
       "3      Rain           70        96    Weak      Yes\n",
       "4      Rain           68        80    Weak      Yes"
      ]
     },
     "execution_count": 8,
     "metadata": {},
     "output_type": "execute_result"
    }
   ],
   "source": [
    "df = pd.read_csv(\"Golf2.txt\")\n",
    "df.head()"
   ]
  },
  {
   "cell_type": "code",
   "execution_count": 9,
   "id": "c1dc4e66",
   "metadata": {},
   "outputs": [],
   "source": [
    "config = {'algorithm': 'C4.5'}"
   ]
  },
  {
   "cell_type": "code",
   "execution_count": 10,
   "id": "55f8332f",
   "metadata": {},
   "outputs": [
    {
     "name": "stdout",
     "output_type": "stream",
     "text": [
      "[INFO]:  2 CPU cores will be allocated in parallel running\n",
      "C4.5  tree is going to be built...\n",
      "-------------------------\n",
      "finished in  0.508105993270874  seconds\n",
      "-------------------------\n",
      "Evaluate  train set\n",
      "-------------------------\n",
      "Accuracy:  100.0 % on  14  instances\n",
      "Labels:  ['No' 'Yes']\n",
      "Confusion matrix:  [[5, 0], [0, 9]]\n",
      "Precision:  100.0 %, Recall:  100.0 %, F1:  100.0 %\n"
     ]
    }
   ],
   "source": [
    "model = chef.fit(df, config)"
   ]
  },
  {
   "cell_type": "code",
   "execution_count": 11,
   "id": "1a3a3e50",
   "metadata": {},
   "outputs": [
    {
     "data": {
      "text/plain": [
       "'No'"
      ]
     },
     "execution_count": 11,
     "metadata": {},
     "output_type": "execute_result"
    }
   ],
   "source": [
    "chef.predict(model, ['Sunny', 82, 90, 'Strong'])"
   ]
  },
  {
   "cell_type": "code",
   "execution_count": null,
   "id": "6849ef16",
   "metadata": {},
   "outputs": [],
   "source": []
  }
 ],
 "metadata": {
  "kernelspec": {
   "display_name": "Python 3",
   "language": "python",
   "name": "python3"
  },
  "language_info": {
   "codemirror_mode": {
    "name": "ipython",
    "version": 3
   },
   "file_extension": ".py",
   "mimetype": "text/x-python",
   "name": "python",
   "nbconvert_exporter": "python",
   "pygments_lexer": "ipython3",
   "version": "3.8.8"
  }
 },
 "nbformat": 4,
 "nbformat_minor": 5
}
