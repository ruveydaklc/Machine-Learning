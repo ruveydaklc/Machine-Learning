{
 "cells": [
  {
   "cell_type": "code",
   "execution_count": 1,
   "id": "15b3690e",
   "metadata": {},
   "outputs": [],
   "source": [
    "from sklearn.model_selection import train_test_split\n",
    "from sklearn.preprocessing import StandardScaler\n",
    "from sklearn.metrics import r2_score\n",
    "import pandas as pd"
   ]
  },
  {
   "cell_type": "markdown",
   "id": "bf2bbc60",
   "metadata": {},
   "source": [
    "---------------------\n",
    "\n",
    "For Regression"
   ]
  },
  {
   "cell_type": "code",
   "execution_count": 2,
   "id": "4033cf57",
   "metadata": {},
   "outputs": [],
   "source": [
    "from sklearn.datasets import fetch_california_housing\n",
    "from sklearn.neural_network import MLPRegressor "
   ]
  },
  {
   "cell_type": "code",
   "execution_count": 9,
   "id": "8b2059f3",
   "metadata": {},
   "outputs": [],
   "source": [
    "##Separate data frames \"X\" and \"y\"\n",
    "cal_housing = fetch_california_housing()\n",
    "X=pd.DataFrame(cal_housing.data, columns =cal_housing.feature_names)\n",
    "y=cal_housing.target\n",
    "# Reserved 20% of dataset for checking the accuracy of the trained model\n",
    "X_train,X_test, y_train, y_test =train_test_split(X,y, random_state =1,test_size=0.20)"
   ]
  },
  {
   "cell_type": "code",
   "execution_count": 10,
   "id": "2b39351f",
   "metadata": {},
   "outputs": [],
   "source": [
    "#Scale the data\n",
    "sc_X=StandardScaler()\n",
    "X_trainscaled=sc_X.fit_transform(X_train)\n",
    "X_testscaled= sc_X.transform(X_test)"
   ]
  },
  {
   "cell_type": "markdown",
   "id": "0cb8d312",
   "metadata": {},
   "source": [
    "Square error is loss function, and cross-entropy is loss function for classification.\n",
    "\n",
    "64 neurons for each layer and We have a total of 5 layers in the model."
   ]
  },
  {
   "cell_type": "code",
   "execution_count": 11,
   "id": "1b62be76",
   "metadata": {},
   "outputs": [],
   "source": [
    "#'RELU' activation, MLPRegressor supports the \"sigmoid\" and \"hyperbolic tan\" function.\n",
    "reg= MLPRegressor(hidden_layer_sizes=(64,64,64),activation=\"relu\",random_state = 1,max_iter =2000).fit(X_trainscaled, y_train)"
   ]
  },
  {
   "cell_type": "code",
   "execution_count": 12,
   "id": "21a1e845",
   "metadata": {},
   "outputs": [
    {
     "name": "stdout",
     "output_type": "stream",
     "text": [
      "Score: 0.7633133194208572\n"
     ]
    }
   ],
   "source": [
    "y_pred = reg.predict(X_testscaled)\n",
    "print(\"Score:\", (r2_score(y_pred,y_test)))"
   ]
  },
  {
   "cell_type": "markdown",
   "id": "2641a78e",
   "metadata": {},
   "source": [
    "-------------\n",
    "\n",
    "For classification"
   ]
  },
  {
   "cell_type": "code",
   "execution_count": 3,
   "id": "9bfc3cdb",
   "metadata": {},
   "outputs": [],
   "source": [
    "from sklearn.neural_network import MLPClassifier\n",
    "from sklearn.datasets import load_iris"
   ]
  },
  {
   "cell_type": "code",
   "execution_count": 13,
   "id": "a57c43de",
   "metadata": {},
   "outputs": [],
   "source": [
    "#Separate data frames \"X\" and \"y\"\n",
    "iris_data=load_iris()\n",
    "X=pd.DataFrame(iris_data.data,columns=iris_data.feature_names)\n",
    "y=iris_data.target"
   ]
  },
  {
   "cell_type": "code",
   "execution_count": 14,
   "id": "207dc3af",
   "metadata": {},
   "outputs": [],
   "source": [
    "# Reserved 20% of dataset for checking the accuracy of the trained model\n",
    "X_train,X_test, y_train, y_test =train_test_split(X,y, random_state =1,test_size=0.20)"
   ]
  },
  {
   "cell_type": "code",
   "execution_count": 15,
   "id": "139cf722",
   "metadata": {},
   "outputs": [],
   "source": [
    "#Scale the data\n",
    "sc_X=StandardScaler()\n",
    "X_trainscaled=sc_X.fit_transform(X_train)\n",
    "X_testscaled= sc_X.transform(X_test)"
   ]
  },
  {
   "cell_type": "code",
   "execution_count": 16,
   "id": "605d15b3",
   "metadata": {},
   "outputs": [
    {
     "name": "stdout",
     "output_type": "stream",
     "text": [
      "Score : 0.9666666666666667\n"
     ]
    }
   ],
   "source": [
    "clf= MLPClassifier(hidden_layer_sizes=(256,128,62,32)\n",
    "                   ,activation = \"relu\"\n",
    "                   ,random_state=1).fit(X_trainscaled, y_train)\n",
    "\n",
    "y_pred=clf.predict(X_testscaled)\n",
    "print(\"Score :\", clf.score(X_testscaled, y_test))"
   ]
  },
  {
   "cell_type": "code",
   "execution_count": null,
   "id": "c1e08c16",
   "metadata": {},
   "outputs": [],
   "source": []
  }
 ],
 "metadata": {
  "kernelspec": {
   "display_name": "Python 3",
   "language": "python",
   "name": "python3"
  },
  "language_info": {
   "codemirror_mode": {
    "name": "ipython",
    "version": 3
   },
   "file_extension": ".py",
   "mimetype": "text/x-python",
   "name": "python",
   "nbconvert_exporter": "python",
   "pygments_lexer": "ipython3",
   "version": "3.8.8"
  }
 },
 "nbformat": 4,
 "nbformat_minor": 5
}
